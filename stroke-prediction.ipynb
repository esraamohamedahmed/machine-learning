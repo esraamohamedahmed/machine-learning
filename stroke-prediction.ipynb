{
 "cells": [
  {
   "cell_type": "raw",
   "id": "a35e0257",
   "metadata": {
    "_cell_guid": "b1076dfc-b9ad-4769-8c92-a6c4dae69d19",
    "_uuid": "8f2839f25d086af736a60e9eeb907d3b93b6e0e5",
    "papermill": {
     "duration": 0.005964,
     "end_time": "2022-08-03T00:50:01.331201",
     "exception": false,
     "start_time": "2022-08-03T00:50:01.325237",
     "status": "completed"
    },
    "tags": []
   },
   "source": [
    "# This Python 3 environment comes with many helpful analytics libraries installed\n",
    "# It is defined by the kaggle/python Docker image: https://github.com/kaggle/docker-python\n",
    "# For example, here's several helpful packages to load\n",
    "\n",
    "import numpy as np # linear algebra\n",
    "import pandas as pd # data processing, CSV file I/O (e.g. pd.read_csv)\n",
    "\n",
    "# Input data files are available in the read-only \"../input/\" directory\n",
    "# For example, running this (by clicking run or pressing Shift+Enter) will list all files under the input directory\n",
    "\n",
    "import os\n",
    "for dirname, _, filenames in os.walk('/kaggle/input'):\n",
    "    for filename in filenames:\n",
    "        print(os.path.join(dirname, filename))\n",
    "\n",
    "# You can write up to 20GB to the current directory (/kaggle/working/) that gets preserved as output when you create a version using \"Save & Run All\" \n",
    "# You can also write temporary files to /kaggle/temp/, but they won't be saved outside of the current session"
   ]
  },
  {
   "cell_type": "code",
   "execution_count": 1,
   "id": "d25028e6",
   "metadata": {
    "execution": {
     "iopub.execute_input": "2022-08-03T00:50:01.343403Z",
     "iopub.status.busy": "2022-08-03T00:50:01.342685Z",
     "iopub.status.idle": "2022-08-03T00:50:02.598061Z",
     "shell.execute_reply": "2022-08-03T00:50:02.597161Z"
    },
    "papermill": {
     "duration": 1.264656,
     "end_time": "2022-08-03T00:50:02.600987",
     "exception": false,
     "start_time": "2022-08-03T00:50:01.336331",
     "status": "completed"
    },
    "tags": []
   },
   "outputs": [
    {
     "name": "stdout",
     "output_type": "stream",
     "text": [
      "/kaggle/input/full-filled-brain-stroke-dataset/full_data.csv\n",
      "/kaggle/input/full-filled-brain-stroke-dataset/full_filled_stroke_data (1).csv\n"
     ]
    }
   ],
   "source": [
    "import numpy as np \n",
    "import pandas as pd \n",
    "import os\n",
    "from sklearn.model_selection import train_test_split\n",
    "from sklearn.metrics import accuracy_score\n",
    "from sklearn.metrics import precision_score, recall_score, f1_score\n",
    "from sklearn.metrics import confusion_matrix,classification_report\n",
    "from imblearn.under_sampling import RandomUnderSampler\n",
    "from sklearn.ensemble import RandomForestClassifier\n",
    "from sklearn.model_selection import train_test_split,GridSearchCV\n",
    "for dirname, _, filenames in os.walk('/kaggle/input'):\n",
    "    for filename in filenames:\n",
    "        print(os.path.join(dirname, filename))"
   ]
  },
  {
   "cell_type": "code",
   "execution_count": 2,
   "id": "20b3a058",
   "metadata": {
    "execution": {
     "iopub.execute_input": "2022-08-03T00:50:02.613973Z",
     "iopub.status.busy": "2022-08-03T00:50:02.613553Z",
     "iopub.status.idle": "2022-08-03T00:50:02.652389Z",
     "shell.execute_reply": "2022-08-03T00:50:02.651454Z"
    },
    "papermill": {
     "duration": 0.047329,
     "end_time": "2022-08-03T00:50:02.654204",
     "exception": false,
     "start_time": "2022-08-03T00:50:02.606875",
     "status": "completed"
    },
    "tags": []
   },
   "outputs": [
    {
     "data": {
      "text/html": [
       "<div>\n",
       "<style scoped>\n",
       "    .dataframe tbody tr th:only-of-type {\n",
       "        vertical-align: middle;\n",
       "    }\n",
       "\n",
       "    .dataframe tbody tr th {\n",
       "        vertical-align: top;\n",
       "    }\n",
       "\n",
       "    .dataframe thead th {\n",
       "        text-align: right;\n",
       "    }\n",
       "</style>\n",
       "<table border=\"1\" class=\"dataframe\">\n",
       "  <thead>\n",
       "    <tr style=\"text-align: right;\">\n",
       "      <th></th>\n",
       "      <th>gender</th>\n",
       "      <th>age</th>\n",
       "      <th>hypertension</th>\n",
       "      <th>heart_disease</th>\n",
       "      <th>ever_married</th>\n",
       "      <th>work_type</th>\n",
       "      <th>Residence_type</th>\n",
       "      <th>avg_glucose_level</th>\n",
       "      <th>bmi</th>\n",
       "      <th>smoking_status</th>\n",
       "      <th>stroke</th>\n",
       "    </tr>\n",
       "  </thead>\n",
       "  <tbody>\n",
       "    <tr>\n",
       "      <th>0</th>\n",
       "      <td>Male</td>\n",
       "      <td>67.0</td>\n",
       "      <td>0</td>\n",
       "      <td>1</td>\n",
       "      <td>Yes</td>\n",
       "      <td>Private</td>\n",
       "      <td>Urban</td>\n",
       "      <td>228.69</td>\n",
       "      <td>36.6</td>\n",
       "      <td>formerly smoked</td>\n",
       "      <td>1</td>\n",
       "    </tr>\n",
       "    <tr>\n",
       "      <th>1</th>\n",
       "      <td>Male</td>\n",
       "      <td>80.0</td>\n",
       "      <td>0</td>\n",
       "      <td>1</td>\n",
       "      <td>Yes</td>\n",
       "      <td>Private</td>\n",
       "      <td>Rural</td>\n",
       "      <td>105.92</td>\n",
       "      <td>32.5</td>\n",
       "      <td>never smoked</td>\n",
       "      <td>1</td>\n",
       "    </tr>\n",
       "    <tr>\n",
       "      <th>2</th>\n",
       "      <td>Female</td>\n",
       "      <td>49.0</td>\n",
       "      <td>0</td>\n",
       "      <td>0</td>\n",
       "      <td>Yes</td>\n",
       "      <td>Private</td>\n",
       "      <td>Urban</td>\n",
       "      <td>171.23</td>\n",
       "      <td>34.4</td>\n",
       "      <td>smokes</td>\n",
       "      <td>1</td>\n",
       "    </tr>\n",
       "    <tr>\n",
       "      <th>3</th>\n",
       "      <td>Female</td>\n",
       "      <td>79.0</td>\n",
       "      <td>1</td>\n",
       "      <td>0</td>\n",
       "      <td>Yes</td>\n",
       "      <td>Self-employed</td>\n",
       "      <td>Rural</td>\n",
       "      <td>174.12</td>\n",
       "      <td>24.0</td>\n",
       "      <td>never smoked</td>\n",
       "      <td>1</td>\n",
       "    </tr>\n",
       "    <tr>\n",
       "      <th>4</th>\n",
       "      <td>Male</td>\n",
       "      <td>81.0</td>\n",
       "      <td>0</td>\n",
       "      <td>0</td>\n",
       "      <td>Yes</td>\n",
       "      <td>Private</td>\n",
       "      <td>Urban</td>\n",
       "      <td>186.21</td>\n",
       "      <td>29.0</td>\n",
       "      <td>formerly smoked</td>\n",
       "      <td>1</td>\n",
       "    </tr>\n",
       "  </tbody>\n",
       "</table>\n",
       "</div>"
      ],
      "text/plain": [
       "   gender   age  hypertension  heart_disease ever_married      work_type  \\\n",
       "0    Male  67.0             0              1          Yes        Private   \n",
       "1    Male  80.0             0              1          Yes        Private   \n",
       "2  Female  49.0             0              0          Yes        Private   \n",
       "3  Female  79.0             1              0          Yes  Self-employed   \n",
       "4    Male  81.0             0              0          Yes        Private   \n",
       "\n",
       "  Residence_type  avg_glucose_level   bmi   smoking_status  stroke  \n",
       "0          Urban             228.69  36.6  formerly smoked       1  \n",
       "1          Rural             105.92  32.5     never smoked       1  \n",
       "2          Urban             171.23  34.4           smokes       1  \n",
       "3          Rural             174.12  24.0     never smoked       1  \n",
       "4          Urban             186.21  29.0  formerly smoked       1  "
      ]
     },
     "execution_count": 2,
     "metadata": {},
     "output_type": "execute_result"
    }
   ],
   "source": [
    "data = pd.read_csv('../input/full-filled-brain-stroke-dataset/full_data.csv')\n",
    "data.head()"
   ]
  },
  {
   "cell_type": "code",
   "execution_count": null,
   "id": "b889d8c6",
   "metadata": {
    "papermill": {
     "duration": 0.005184,
     "end_time": "2022-08-03T00:50:02.664991",
     "exception": false,
     "start_time": "2022-08-03T00:50:02.659807",
     "status": "completed"
    },
    "tags": []
   },
   "outputs": [],
   "source": []
  },
  {
   "cell_type": "markdown",
   "id": "6851d0a9",
   "metadata": {
    "papermill": {
     "duration": 0.005028,
     "end_time": "2022-08-03T00:50:02.675411",
     "exception": false,
     "start_time": "2022-08-03T00:50:02.670383",
     "status": "completed"
    },
    "tags": []
   },
   "source": [
    " ### Data Exploration"
   ]
  },
  {
   "cell_type": "code",
   "execution_count": 3,
   "id": "472a6b31",
   "metadata": {
    "execution": {
     "iopub.execute_input": "2022-08-03T00:50:02.687813Z",
     "iopub.status.busy": "2022-08-03T00:50:02.687215Z",
     "iopub.status.idle": "2022-08-03T00:50:02.709459Z",
     "shell.execute_reply": "2022-08-03T00:50:02.708473Z"
    },
    "papermill": {
     "duration": 0.030682,
     "end_time": "2022-08-03T00:50:02.711387",
     "exception": false,
     "start_time": "2022-08-03T00:50:02.680705",
     "status": "completed"
    },
    "tags": []
   },
   "outputs": [
    {
     "name": "stdout",
     "output_type": "stream",
     "text": [
      "<class 'pandas.core.frame.DataFrame'>\n",
      "RangeIndex: 4981 entries, 0 to 4980\n",
      "Data columns (total 11 columns):\n",
      " #   Column             Non-Null Count  Dtype  \n",
      "---  ------             --------------  -----  \n",
      " 0   gender             4981 non-null   object \n",
      " 1   age                4981 non-null   float64\n",
      " 2   hypertension       4981 non-null   int64  \n",
      " 3   heart_disease      4981 non-null   int64  \n",
      " 4   ever_married       4981 non-null   object \n",
      " 5   work_type          4981 non-null   object \n",
      " 6   Residence_type     4981 non-null   object \n",
      " 7   avg_glucose_level  4981 non-null   float64\n",
      " 8   bmi                4981 non-null   float64\n",
      " 9   smoking_status     4981 non-null   object \n",
      " 10  stroke             4981 non-null   int64  \n",
      "dtypes: float64(3), int64(3), object(5)\n",
      "memory usage: 428.2+ KB\n"
     ]
    }
   ],
   "source": [
    "data.info()"
   ]
  },
  {
   "cell_type": "code",
   "execution_count": 4,
   "id": "f0ae013e",
   "metadata": {
    "execution": {
     "iopub.execute_input": "2022-08-03T00:50:02.724046Z",
     "iopub.status.busy": "2022-08-03T00:50:02.723474Z",
     "iopub.status.idle": "2022-08-03T00:50:02.750079Z",
     "shell.execute_reply": "2022-08-03T00:50:02.749238Z"
    },
    "papermill": {
     "duration": 0.034953,
     "end_time": "2022-08-03T00:50:02.751850",
     "exception": false,
     "start_time": "2022-08-03T00:50:02.716897",
     "status": "completed"
    },
    "tags": []
   },
   "outputs": [
    {
     "data": {
      "text/html": [
       "<div>\n",
       "<style scoped>\n",
       "    .dataframe tbody tr th:only-of-type {\n",
       "        vertical-align: middle;\n",
       "    }\n",
       "\n",
       "    .dataframe tbody tr th {\n",
       "        vertical-align: top;\n",
       "    }\n",
       "\n",
       "    .dataframe thead th {\n",
       "        text-align: right;\n",
       "    }\n",
       "</style>\n",
       "<table border=\"1\" class=\"dataframe\">\n",
       "  <thead>\n",
       "    <tr style=\"text-align: right;\">\n",
       "      <th></th>\n",
       "      <th>age</th>\n",
       "      <th>hypertension</th>\n",
       "      <th>heart_disease</th>\n",
       "      <th>avg_glucose_level</th>\n",
       "      <th>bmi</th>\n",
       "      <th>stroke</th>\n",
       "    </tr>\n",
       "  </thead>\n",
       "  <tbody>\n",
       "    <tr>\n",
       "      <th>count</th>\n",
       "      <td>4981.000000</td>\n",
       "      <td>4981.000000</td>\n",
       "      <td>4981.000000</td>\n",
       "      <td>4981.000000</td>\n",
       "      <td>4981.000000</td>\n",
       "      <td>4981.000000</td>\n",
       "    </tr>\n",
       "    <tr>\n",
       "      <th>mean</th>\n",
       "      <td>43.419859</td>\n",
       "      <td>0.096165</td>\n",
       "      <td>0.055210</td>\n",
       "      <td>105.943562</td>\n",
       "      <td>28.498173</td>\n",
       "      <td>0.049789</td>\n",
       "    </tr>\n",
       "    <tr>\n",
       "      <th>std</th>\n",
       "      <td>22.662755</td>\n",
       "      <td>0.294848</td>\n",
       "      <td>0.228412</td>\n",
       "      <td>45.075373</td>\n",
       "      <td>6.790464</td>\n",
       "      <td>0.217531</td>\n",
       "    </tr>\n",
       "    <tr>\n",
       "      <th>min</th>\n",
       "      <td>0.080000</td>\n",
       "      <td>0.000000</td>\n",
       "      <td>0.000000</td>\n",
       "      <td>55.120000</td>\n",
       "      <td>14.000000</td>\n",
       "      <td>0.000000</td>\n",
       "    </tr>\n",
       "    <tr>\n",
       "      <th>25%</th>\n",
       "      <td>25.000000</td>\n",
       "      <td>0.000000</td>\n",
       "      <td>0.000000</td>\n",
       "      <td>77.230000</td>\n",
       "      <td>23.700000</td>\n",
       "      <td>0.000000</td>\n",
       "    </tr>\n",
       "    <tr>\n",
       "      <th>50%</th>\n",
       "      <td>45.000000</td>\n",
       "      <td>0.000000</td>\n",
       "      <td>0.000000</td>\n",
       "      <td>91.850000</td>\n",
       "      <td>28.100000</td>\n",
       "      <td>0.000000</td>\n",
       "    </tr>\n",
       "    <tr>\n",
       "      <th>75%</th>\n",
       "      <td>61.000000</td>\n",
       "      <td>0.000000</td>\n",
       "      <td>0.000000</td>\n",
       "      <td>113.860000</td>\n",
       "      <td>32.600000</td>\n",
       "      <td>0.000000</td>\n",
       "    </tr>\n",
       "    <tr>\n",
       "      <th>max</th>\n",
       "      <td>82.000000</td>\n",
       "      <td>1.000000</td>\n",
       "      <td>1.000000</td>\n",
       "      <td>271.740000</td>\n",
       "      <td>48.900000</td>\n",
       "      <td>1.000000</td>\n",
       "    </tr>\n",
       "  </tbody>\n",
       "</table>\n",
       "</div>"
      ],
      "text/plain": [
       "               age  hypertension  heart_disease  avg_glucose_level  \\\n",
       "count  4981.000000   4981.000000    4981.000000        4981.000000   \n",
       "mean     43.419859      0.096165       0.055210         105.943562   \n",
       "std      22.662755      0.294848       0.228412          45.075373   \n",
       "min       0.080000      0.000000       0.000000          55.120000   \n",
       "25%      25.000000      0.000000       0.000000          77.230000   \n",
       "50%      45.000000      0.000000       0.000000          91.850000   \n",
       "75%      61.000000      0.000000       0.000000         113.860000   \n",
       "max      82.000000      1.000000       1.000000         271.740000   \n",
       "\n",
       "               bmi       stroke  \n",
       "count  4981.000000  4981.000000  \n",
       "mean     28.498173     0.049789  \n",
       "std       6.790464     0.217531  \n",
       "min      14.000000     0.000000  \n",
       "25%      23.700000     0.000000  \n",
       "50%      28.100000     0.000000  \n",
       "75%      32.600000     0.000000  \n",
       "max      48.900000     1.000000  "
      ]
     },
     "execution_count": 4,
     "metadata": {},
     "output_type": "execute_result"
    }
   ],
   "source": [
    "data.describe()"
   ]
  },
  {
   "cell_type": "code",
   "execution_count": 5,
   "id": "e4c8c4c5",
   "metadata": {
    "execution": {
     "iopub.execute_input": "2022-08-03T00:50:02.765075Z",
     "iopub.status.busy": "2022-08-03T00:50:02.764385Z",
     "iopub.status.idle": "2022-08-03T00:50:02.772584Z",
     "shell.execute_reply": "2022-08-03T00:50:02.771966Z"
    },
    "papermill": {
     "duration": 0.016315,
     "end_time": "2022-08-03T00:50:02.773996",
     "exception": false,
     "start_time": "2022-08-03T00:50:02.757681",
     "status": "completed"
    },
    "tags": []
   },
   "outputs": [
    {
     "data": {
      "text/plain": [
       "gender               0\n",
       "age                  0\n",
       "hypertension         0\n",
       "heart_disease        0\n",
       "ever_married         0\n",
       "work_type            0\n",
       "Residence_type       0\n",
       "avg_glucose_level    0\n",
       "bmi                  0\n",
       "smoking_status       0\n",
       "stroke               0\n",
       "dtype: int64"
      ]
     },
     "execution_count": 5,
     "metadata": {},
     "output_type": "execute_result"
    }
   ],
   "source": [
    "data.isnull().sum()"
   ]
  },
  {
   "cell_type": "code",
   "execution_count": 6,
   "id": "f8bda11a",
   "metadata": {
    "execution": {
     "iopub.execute_input": "2022-08-03T00:50:02.787177Z",
     "iopub.status.busy": "2022-08-03T00:50:02.786672Z",
     "iopub.status.idle": "2022-08-03T00:50:02.794142Z",
     "shell.execute_reply": "2022-08-03T00:50:02.793288Z"
    },
    "papermill": {
     "duration": 0.016168,
     "end_time": "2022-08-03T00:50:02.796057",
     "exception": false,
     "start_time": "2022-08-03T00:50:02.779889",
     "status": "completed"
    },
    "tags": []
   },
   "outputs": [
    {
     "data": {
      "text/plain": [
       "0    4733\n",
       "1     248\n",
       "Name: stroke, dtype: int64"
      ]
     },
     "execution_count": 6,
     "metadata": {},
     "output_type": "execute_result"
    }
   ],
   "source": [
    "data['stroke'].value_counts()\n"
   ]
  },
  {
   "cell_type": "markdown",
   "id": "4b7ee3fd",
   "metadata": {
    "papermill": {
     "duration": 0.00594,
     "end_time": "2022-08-03T00:50:02.808125",
     "exception": false,
     "start_time": "2022-08-03T00:50:02.802185",
     "status": "completed"
    },
    "tags": []
   },
   "source": [
    "So, data is imbalanced. "
   ]
  },
  {
   "cell_type": "code",
   "execution_count": 7,
   "id": "3b22a40b",
   "metadata": {
    "execution": {
     "iopub.execute_input": "2022-08-03T00:50:02.822362Z",
     "iopub.status.busy": "2022-08-03T00:50:02.821772Z",
     "iopub.status.idle": "2022-08-03T00:50:02.831015Z",
     "shell.execute_reply": "2022-08-03T00:50:02.829358Z"
    },
    "papermill": {
     "duration": 0.019287,
     "end_time": "2022-08-03T00:50:02.833633",
     "exception": false,
     "start_time": "2022-08-03T00:50:02.814346",
     "status": "completed"
    },
    "tags": []
   },
   "outputs": [
    {
     "name": "stdout",
     "output_type": "stream",
     "text": [
      "['Male' 'Female']\n",
      "['Private' 'Self-employed' 'Govt_job' 'children']\n",
      "['Urban' 'Rural']\n",
      "['formerly smoked' 'never smoked' 'smokes' 'Unknown']\n",
      "['Yes' 'No']\n"
     ]
    }
   ],
   "source": [
    "print(data['gender'].unique())\n",
    "print(data['work_type'].unique())\n",
    "print(data['Residence_type'].unique())\n",
    "print(data['smoking_status'].unique())\n",
    "print(data['ever_married'].unique())"
   ]
  },
  {
   "cell_type": "code",
   "execution_count": 8,
   "id": "b7aa8d78",
   "metadata": {
    "execution": {
     "iopub.execute_input": "2022-08-03T00:50:02.848372Z",
     "iopub.status.busy": "2022-08-03T00:50:02.847762Z",
     "iopub.status.idle": "2022-08-03T00:50:02.859951Z",
     "shell.execute_reply": "2022-08-03T00:50:02.859189Z"
    },
    "papermill": {
     "duration": 0.022112,
     "end_time": "2022-08-03T00:50:02.861943",
     "exception": false,
     "start_time": "2022-08-03T00:50:02.839831",
     "status": "completed"
    },
    "tags": []
   },
   "outputs": [],
   "source": [
    "marriage_dict = {'Yes': 1,'No': 0}\n",
    "smoking_dict={'formerly smoked':1,'never smoked':2, 'smokes':3, 'Unknown':4}\n",
    "residance_dict={'Urban':1, 'Rural':2}\n",
    "work_dict={'Private':1, 'Self-employed':2, 'Govt_job':3, 'children':4}\n",
    "gender_dict={'Male':1, 'Female':0}\n",
    "data[\"ever_married\"] = data.ever_married.map(marriage_dict)\n",
    "data[\"smoking_status\"] = data.smoking_status.map(smoking_dict)\n",
    "data[\"Residence_type\"] = data.Residence_type.map(residance_dict)\n",
    "data[\"work_type\"] = data.work_type.map(work_dict)\n",
    "data[\"gender\"] = data.gender.map(gender_dict)\n"
   ]
  },
  {
   "cell_type": "code",
   "execution_count": 9,
   "id": "481d489a",
   "metadata": {
    "execution": {
     "iopub.execute_input": "2022-08-03T00:50:02.875943Z",
     "iopub.status.busy": "2022-08-03T00:50:02.875367Z",
     "iopub.status.idle": "2022-08-03T00:50:02.887998Z",
     "shell.execute_reply": "2022-08-03T00:50:02.887276Z"
    },
    "papermill": {
     "duration": 0.021669,
     "end_time": "2022-08-03T00:50:02.889750",
     "exception": false,
     "start_time": "2022-08-03T00:50:02.868081",
     "status": "completed"
    },
    "tags": []
   },
   "outputs": [
    {
     "data": {
      "text/html": [
       "<div>\n",
       "<style scoped>\n",
       "    .dataframe tbody tr th:only-of-type {\n",
       "        vertical-align: middle;\n",
       "    }\n",
       "\n",
       "    .dataframe tbody tr th {\n",
       "        vertical-align: top;\n",
       "    }\n",
       "\n",
       "    .dataframe thead th {\n",
       "        text-align: right;\n",
       "    }\n",
       "</style>\n",
       "<table border=\"1\" class=\"dataframe\">\n",
       "  <thead>\n",
       "    <tr style=\"text-align: right;\">\n",
       "      <th></th>\n",
       "      <th>gender</th>\n",
       "      <th>age</th>\n",
       "      <th>hypertension</th>\n",
       "      <th>heart_disease</th>\n",
       "      <th>ever_married</th>\n",
       "      <th>work_type</th>\n",
       "      <th>Residence_type</th>\n",
       "      <th>avg_glucose_level</th>\n",
       "      <th>bmi</th>\n",
       "      <th>smoking_status</th>\n",
       "      <th>stroke</th>\n",
       "    </tr>\n",
       "  </thead>\n",
       "  <tbody>\n",
       "    <tr>\n",
       "      <th>0</th>\n",
       "      <td>1</td>\n",
       "      <td>67.0</td>\n",
       "      <td>0</td>\n",
       "      <td>1</td>\n",
       "      <td>1</td>\n",
       "      <td>1</td>\n",
       "      <td>1</td>\n",
       "      <td>228.69</td>\n",
       "      <td>36.6</td>\n",
       "      <td>1</td>\n",
       "      <td>1</td>\n",
       "    </tr>\n",
       "    <tr>\n",
       "      <th>1</th>\n",
       "      <td>1</td>\n",
       "      <td>80.0</td>\n",
       "      <td>0</td>\n",
       "      <td>1</td>\n",
       "      <td>1</td>\n",
       "      <td>1</td>\n",
       "      <td>2</td>\n",
       "      <td>105.92</td>\n",
       "      <td>32.5</td>\n",
       "      <td>2</td>\n",
       "      <td>1</td>\n",
       "    </tr>\n",
       "    <tr>\n",
       "      <th>2</th>\n",
       "      <td>0</td>\n",
       "      <td>49.0</td>\n",
       "      <td>0</td>\n",
       "      <td>0</td>\n",
       "      <td>1</td>\n",
       "      <td>1</td>\n",
       "      <td>1</td>\n",
       "      <td>171.23</td>\n",
       "      <td>34.4</td>\n",
       "      <td>3</td>\n",
       "      <td>1</td>\n",
       "    </tr>\n",
       "    <tr>\n",
       "      <th>3</th>\n",
       "      <td>0</td>\n",
       "      <td>79.0</td>\n",
       "      <td>1</td>\n",
       "      <td>0</td>\n",
       "      <td>1</td>\n",
       "      <td>2</td>\n",
       "      <td>2</td>\n",
       "      <td>174.12</td>\n",
       "      <td>24.0</td>\n",
       "      <td>2</td>\n",
       "      <td>1</td>\n",
       "    </tr>\n",
       "    <tr>\n",
       "      <th>4</th>\n",
       "      <td>1</td>\n",
       "      <td>81.0</td>\n",
       "      <td>0</td>\n",
       "      <td>0</td>\n",
       "      <td>1</td>\n",
       "      <td>1</td>\n",
       "      <td>1</td>\n",
       "      <td>186.21</td>\n",
       "      <td>29.0</td>\n",
       "      <td>1</td>\n",
       "      <td>1</td>\n",
       "    </tr>\n",
       "  </tbody>\n",
       "</table>\n",
       "</div>"
      ],
      "text/plain": [
       "   gender   age  hypertension  heart_disease  ever_married  work_type  \\\n",
       "0       1  67.0             0              1             1          1   \n",
       "1       1  80.0             0              1             1          1   \n",
       "2       0  49.0             0              0             1          1   \n",
       "3       0  79.0             1              0             1          2   \n",
       "4       1  81.0             0              0             1          1   \n",
       "\n",
       "   Residence_type  avg_glucose_level   bmi  smoking_status  stroke  \n",
       "0               1             228.69  36.6               1       1  \n",
       "1               2             105.92  32.5               2       1  \n",
       "2               1             171.23  34.4               3       1  \n",
       "3               2             174.12  24.0               2       1  \n",
       "4               1             186.21  29.0               1       1  "
      ]
     },
     "execution_count": 9,
     "metadata": {},
     "output_type": "execute_result"
    }
   ],
   "source": [
    "data.head()"
   ]
  },
  {
   "cell_type": "markdown",
   "id": "dd781d96",
   "metadata": {
    "papermill": {
     "duration": 0.006114,
     "end_time": "2022-08-03T00:50:02.902257",
     "exception": false,
     "start_time": "2022-08-03T00:50:02.896143",
     "status": "completed"
    },
    "tags": []
   },
   "source": [
    "## Model Building"
   ]
  },
  {
   "cell_type": "code",
   "execution_count": 10,
   "id": "2e09576a",
   "metadata": {
    "execution": {
     "iopub.execute_input": "2022-08-03T00:50:02.916856Z",
     "iopub.status.busy": "2022-08-03T00:50:02.916559Z",
     "iopub.status.idle": "2022-08-03T00:50:02.928365Z",
     "shell.execute_reply": "2022-08-03T00:50:02.926299Z"
    },
    "papermill": {
     "duration": 0.021179,
     "end_time": "2022-08-03T00:50:02.930280",
     "exception": false,
     "start_time": "2022-08-03T00:50:02.909101",
     "status": "completed"
    },
    "tags": []
   },
   "outputs": [
    {
     "data": {
      "text/plain": [
       "((3337, 10), (1644, 10))"
      ]
     },
     "execution_count": 10,
     "metadata": {},
     "output_type": "execute_result"
    }
   ],
   "source": [
    "X = data.drop(['stroke'], axis = 1)\n",
    "y = data['stroke']\n",
    "X_train, X_test, y_train , y_test = train_test_split(X,y, test_size = 0.33, random_state = 42)\n",
    "X_train.shape, X_test.shape"
   ]
  },
  {
   "cell_type": "markdown",
   "id": "7f1b3c3f",
   "metadata": {
    "papermill": {
     "duration": 0.007388,
     "end_time": "2022-08-03T00:50:02.944312",
     "exception": false,
     "start_time": "2022-08-03T00:50:02.936924",
     "status": "completed"
    },
    "tags": []
   },
   "source": [
    "## Hyperparameter Tunning"
   ]
  },
  {
   "cell_type": "code",
   "execution_count": 11,
   "id": "49f289de",
   "metadata": {
    "execution": {
     "iopub.execute_input": "2022-08-03T00:50:02.962701Z",
     "iopub.status.busy": "2022-08-03T00:50:02.962020Z",
     "iopub.status.idle": "2022-08-03T00:50:02.969655Z",
     "shell.execute_reply": "2022-08-03T00:50:02.968846Z"
    },
    "papermill": {
     "duration": 0.018126,
     "end_time": "2022-08-03T00:50:02.971311",
     "exception": false,
     "start_time": "2022-08-03T00:50:02.953185",
     "status": "completed"
    },
    "tags": []
   },
   "outputs": [
    {
     "data": {
      "text/plain": [
       "18"
      ]
     },
     "execution_count": 11,
     "metadata": {},
     "output_type": "execute_result"
    }
   ],
   "source": [
    "parameters ={'max_depth': [50, 90, 130],\n",
    "     'criterion' : ['gini', 'entropy'],\n",
    "     'n_estimators': [100,200,400]}\n",
    "from sklearn.model_selection import ParameterGrid\n",
    "param_size = ParameterGrid(parameters)\n",
    "len(param_size)"
   ]
  },
  {
   "cell_type": "code",
   "execution_count": 12,
   "id": "c4babb72",
   "metadata": {
    "execution": {
     "iopub.execute_input": "2022-08-03T00:50:02.987331Z",
     "iopub.status.busy": "2022-08-03T00:50:02.986829Z",
     "iopub.status.idle": "2022-08-03T00:50:27.535951Z",
     "shell.execute_reply": "2022-08-03T00:50:27.534685Z"
    },
    "papermill": {
     "duration": 24.561293,
     "end_time": "2022-08-03T00:50:27.539067",
     "exception": false,
     "start_time": "2022-08-03T00:50:02.977774",
     "status": "completed"
    },
    "tags": []
   },
   "outputs": [
    {
     "name": "stdout",
     "output_type": "stream",
     "text": [
      "Best Params:  {'criterion': 'entropy', 'max_depth': 50, 'n_estimators': 400}\n",
      "Best Score:  0.9514534648843244\n"
     ]
    }
   ],
   "source": [
    "from sklearn.model_selection import GridSearchCV\n",
    "grid_search = RandomForestClassifier()\n",
    "grid_search = GridSearchCV(\n",
    "    grid_search, \n",
    "    parameters, \n",
    "    cv=5,\n",
    "    scoring='accuracy',n_jobs=-1)\n",
    "\n",
    "grid_result= grid_search.fit(X_train, y_train)\n",
    "print('Best Params: ', grid_result.best_params_)\n",
    "print('Best Score: ', grid_result.best_score_)\n"
   ]
  },
  {
   "cell_type": "markdown",
   "id": "06de8425",
   "metadata": {
    "papermill": {
     "duration": 0.006335,
     "end_time": "2022-08-03T00:50:27.552406",
     "exception": false,
     "start_time": "2022-08-03T00:50:27.546071",
     "status": "completed"
    },
    "tags": []
   },
   "source": [
    "## Results"
   ]
  },
  {
   "cell_type": "code",
   "execution_count": 13,
   "id": "c58c607f",
   "metadata": {
    "execution": {
     "iopub.execute_input": "2022-08-03T00:50:27.567078Z",
     "iopub.status.busy": "2022-08-03T00:50:27.566774Z",
     "iopub.status.idle": "2022-08-03T00:50:27.682853Z",
     "shell.execute_reply": "2022-08-03T00:50:27.681205Z"
    },
    "papermill": {
     "duration": 0.126647,
     "end_time": "2022-08-03T00:50:27.685549",
     "exception": false,
     "start_time": "2022-08-03T00:50:27.558902",
     "status": "completed"
    },
    "tags": []
   },
   "outputs": [
    {
     "name": "stdout",
     "output_type": "stream",
     "text": [
      "[[1558    1]\n",
      " [  85    0]]\n",
      "The accuracy is: 0.9477\n",
      "The classification report is:\n",
      "              precision    recall  f1-score   support\n",
      "\n",
      "           0       0.95      1.00      0.97      1559\n",
      "           1       0.00      0.00      0.00        85\n",
      "\n",
      "    accuracy                           0.95      1644\n",
      "   macro avg       0.47      0.50      0.49      1644\n",
      "weighted avg       0.90      0.95      0.92      1644\n",
      "\n"
     ]
    }
   ],
   "source": [
    "y_pred_rfc = grid_search.predict(X_test)\n",
    "print(confusion_matrix(y_test,y_pred_rfc))\n",
    "print('The accuracy is: {:.4f}'.format(accuracy_score(y_test,y_pred_rfc)))\n",
    "print('The classification report is:\\n{:}'.format(classification_report(y_test,y_pred_rfc)))"
   ]
  },
  {
   "cell_type": "code",
   "execution_count": 14,
   "id": "fa6cf6e3",
   "metadata": {
    "execution": {
     "iopub.execute_input": "2022-08-03T00:50:27.702944Z",
     "iopub.status.busy": "2022-08-03T00:50:27.702622Z",
     "iopub.status.idle": "2022-08-03T00:50:27.709175Z",
     "shell.execute_reply": "2022-08-03T00:50:27.708563Z"
    },
    "papermill": {
     "duration": 0.01691,
     "end_time": "2022-08-03T00:50:27.710712",
     "exception": false,
     "start_time": "2022-08-03T00:50:27.693802",
     "status": "completed"
    },
    "tags": []
   },
   "outputs": [
    {
     "data": {
      "text/plain": [
       "0.4996792815907633"
      ]
     },
     "execution_count": 14,
     "metadata": {},
     "output_type": "execute_result"
    }
   ],
   "source": [
    "from sklearn.metrics import balanced_accuracy_score\n",
    "balanced_accuracy_score(y_test,y_pred_rfc)"
   ]
  },
  {
   "cell_type": "markdown",
   "id": "d970ca74",
   "metadata": {
    "papermill": {
     "duration": 0.006383,
     "end_time": "2022-08-03T00:50:27.723962",
     "exception": false,
     "start_time": "2022-08-03T00:50:27.717579",
     "status": "completed"
    },
    "tags": []
   },
   "source": [
    "We need to balance the data."
   ]
  },
  {
   "cell_type": "markdown",
   "id": "84f879b7",
   "metadata": {
    "papermill": {
     "duration": 0.006181,
     "end_time": "2022-08-03T00:50:27.736670",
     "exception": false,
     "start_time": "2022-08-03T00:50:27.730489",
     "status": "completed"
    },
    "tags": []
   },
   "source": [
    "## Undersampling Dataset"
   ]
  },
  {
   "cell_type": "code",
   "execution_count": 15,
   "id": "fdb4159c",
   "metadata": {
    "execution": {
     "iopub.execute_input": "2022-08-03T00:50:27.751135Z",
     "iopub.status.busy": "2022-08-03T00:50:27.750221Z",
     "iopub.status.idle": "2022-08-03T00:50:27.765242Z",
     "shell.execute_reply": "2022-08-03T00:50:27.762777Z"
    },
    "papermill": {
     "duration": 0.024459,
     "end_time": "2022-08-03T00:50:27.767379",
     "exception": false,
     "start_time": "2022-08-03T00:50:27.742920",
     "status": "completed"
    },
    "tags": []
   },
   "outputs": [
    {
     "name": "stdout",
     "output_type": "stream",
     "text": [
      "[(0, 248), (1, 248)]\n"
     ]
    }
   ],
   "source": [
    "from collections import Counter\n",
    "undersample = RandomUnderSampler(sampling_strategy='majority')\n",
    "X_under, y_under = undersample.fit_resample(X, y)\n",
    "print(sorted(Counter(y_under).items()))"
   ]
  },
  {
   "cell_type": "code",
   "execution_count": 16,
   "id": "32bdaaca",
   "metadata": {
    "execution": {
     "iopub.execute_input": "2022-08-03T00:50:27.782208Z",
     "iopub.status.busy": "2022-08-03T00:50:27.781890Z",
     "iopub.status.idle": "2022-08-03T00:50:27.788885Z",
     "shell.execute_reply": "2022-08-03T00:50:27.788245Z"
    },
    "papermill": {
     "duration": 0.016328,
     "end_time": "2022-08-03T00:50:27.790455",
     "exception": false,
     "start_time": "2022-08-03T00:50:27.774127",
     "status": "completed"
    },
    "tags": []
   },
   "outputs": [],
   "source": [
    "X_train1, X_test1, y_train1 , y_test1 = train_test_split(X_under,y_under, test_size = 0.33, random_state = 43)"
   ]
  },
  {
   "cell_type": "code",
   "execution_count": 17,
   "id": "0c9a74fd",
   "metadata": {
    "execution": {
     "iopub.execute_input": "2022-08-03T00:50:27.805464Z",
     "iopub.status.busy": "2022-08-03T00:50:27.805149Z",
     "iopub.status.idle": "2022-08-03T00:50:38.567591Z",
     "shell.execute_reply": "2022-08-03T00:50:38.566337Z"
    },
    "papermill": {
     "duration": 10.773466,
     "end_time": "2022-08-03T00:50:38.570776",
     "exception": false,
     "start_time": "2022-08-03T00:50:27.797310",
     "status": "completed"
    },
    "tags": []
   },
   "outputs": [
    {
     "name": "stdout",
     "output_type": "stream",
     "text": [
      "Best Params:  {'criterion': 'entropy', 'max_depth': 50, 'n_estimators': 100}\n",
      "Best Score:  0.7740388964269561\n"
     ]
    }
   ],
   "source": [
    "from sklearn.model_selection import GridSearchCV\n",
    "grid_search = RandomForestClassifier()\n",
    "grid_search = GridSearchCV(\n",
    "    grid_search, \n",
    "    parameters, \n",
    "    cv=5,\n",
    "    scoring='accuracy',n_jobs=-1)\n",
    "\n",
    "grid_result= grid_search.fit(X_train1, y_train1)\n",
    "print('Best Params: ', grid_result.best_params_)\n",
    "print('Best Score: ', grid_result.best_score_)\n"
   ]
  },
  {
   "cell_type": "code",
   "execution_count": 18,
   "id": "ecbab970",
   "metadata": {
    "execution": {
     "iopub.execute_input": "2022-08-03T00:50:38.586336Z",
     "iopub.status.busy": "2022-08-03T00:50:38.586034Z",
     "iopub.status.idle": "2022-08-03T00:50:38.610957Z",
     "shell.execute_reply": "2022-08-03T00:50:38.608811Z"
    },
    "papermill": {
     "duration": 0.034983,
     "end_time": "2022-08-03T00:50:38.612998",
     "exception": false,
     "start_time": "2022-08-03T00:50:38.578015",
     "status": "completed"
    },
    "tags": []
   },
   "outputs": [
    {
     "name": "stdout",
     "output_type": "stream",
     "text": [
      "[[65 18]\n",
      " [18 63]]\n",
      "The accuracy is: 0.7805\n",
      "The classification report is:\n",
      "              precision    recall  f1-score   support\n",
      "\n",
      "           0       0.78      0.78      0.78        83\n",
      "           1       0.78      0.78      0.78        81\n",
      "\n",
      "    accuracy                           0.78       164\n",
      "   macro avg       0.78      0.78      0.78       164\n",
      "weighted avg       0.78      0.78      0.78       164\n",
      "\n"
     ]
    }
   ],
   "source": [
    "y_pred_rfc_balance = grid_search.predict(X_test1)\n",
    "print(confusion_matrix(y_test1,y_pred_rfc_balance))\n",
    "print('The accuracy is: {:.4f}'.format(accuracy_score(y_test1,y_pred_rfc_balance)))\n",
    "print('The classification report is:\\n{:}'.format(classification_report(y_test1,y_pred_rfc_balance)))"
   ]
  },
  {
   "cell_type": "code",
   "execution_count": 19,
   "id": "83f20cd1",
   "metadata": {
    "execution": {
     "iopub.execute_input": "2022-08-03T00:50:38.627796Z",
     "iopub.status.busy": "2022-08-03T00:50:38.627387Z",
     "iopub.status.idle": "2022-08-03T00:50:38.634243Z",
     "shell.execute_reply": "2022-08-03T00:50:38.633434Z"
    },
    "papermill": {
     "duration": 0.015881,
     "end_time": "2022-08-03T00:50:38.635910",
     "exception": false,
     "start_time": "2022-08-03T00:50:38.620029",
     "status": "completed"
    },
    "tags": []
   },
   "outputs": [
    {
     "data": {
      "text/plain": [
       "0.7804551539491298"
      ]
     },
     "execution_count": 19,
     "metadata": {},
     "output_type": "execute_result"
    }
   ],
   "source": [
    "balanced_accuracy_score(y_test1,y_pred_rfc_balance)"
   ]
  }
 ],
 "metadata": {
  "kernelspec": {
   "display_name": "Python 3",
   "language": "python",
   "name": "python3"
  },
  "language_info": {
   "codemirror_mode": {
    "name": "ipython",
    "version": 3
   },
   "file_extension": ".py",
   "mimetype": "text/x-python",
   "name": "python",
   "nbconvert_exporter": "python",
   "pygments_lexer": "ipython3",
   "version": "3.7.12"
  },
  "papermill": {
   "default_parameters": {},
   "duration": 47.304587,
   "end_time": "2022-08-03T00:50:41.262107",
   "environment_variables": {},
   "exception": null,
   "input_path": "__notebook__.ipynb",
   "output_path": "__notebook__.ipynb",
   "parameters": {},
   "start_time": "2022-08-03T00:49:53.957520",
   "version": "2.3.4"
  }
 },
 "nbformat": 4,
 "nbformat_minor": 5
}
